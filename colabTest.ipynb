{
  "nbformat": 4,
  "nbformat_minor": 0,
  "metadata": {
    "colab": {
      "provenance": [],
      "authorship_tag": "ABX9TyMlMabCEPIT8ZYqoOsb4Bup",
      "include_colab_link": true
    },
    "kernelspec": {
      "name": "python3",
      "display_name": "Python 3"
    },
    "language_info": {
      "name": "python"
    }
  },
  "cells": [
    {
      "cell_type": "markdown",
      "metadata": {
        "id": "view-in-github",
        "colab_type": "text"
      },
      "source": [
        "<a href=\"https://colab.research.google.com/github/Adhemizu/MLRepositorySelf/blob/main/colabTest.ipynb\" target=\"_parent\"><img src=\"https://colab.research.google.com/assets/colab-badge.svg\" alt=\"Open In Colab\"/></a>"
      ]
    },
    {
      "cell_type": "code",
      "execution_count": 3,
      "metadata": {
        "colab": {
          "base_uri": "https://localhost:8080/"
        },
        "id": "FFoGPmVi7Hlf",
        "outputId": "cb37cb79-28cb-4e5e-97b7-c0d4e7720d96"
      },
      "outputs": [
        {
          "output_type": "stream",
          "name": "stdout",
          "text": [
            "Hello World\n",
            "Hello World\n"
          ]
        }
      ],
      "source": [
        "print(\"Hello World\")\n",
        "print(\"Hello World\")"
      ]
    },
    {
      "cell_type": "code",
      "source": [],
      "metadata": {
        "id": "EnIgqr9Z7Vs3"
      },
      "execution_count": null,
      "outputs": []
    },
    {
      "cell_type": "markdown",
      "source": [
        "# 見出し1\n",
        "\n",
        "Markdown記法で見やすく文章を書くことができます。\n",
        "\n",
        "## 見出し2\n",
        "\n",
        "**強調**\n",
        "\n",
        "数式を書くこともできます。\n",
        "\n",
        "$$\n",
        "y=2x+1\n",
        "$$\n",
        "\n",
        "Pythonコードを書く時はコードブロックを使います。\n",
        "\n",
        "```python\n",
        "print(\"Hello, World!\")\n",
        "```\n",
        "\n",
        "- 箇条書き\n",
        "- 箇条書き\n",
        "  - 箇条書き\n",
        "\n",
        "> 引用文\n"
      ],
      "metadata": {
        "id": "DKD2lW7j7z6J"
      }
    }
  ]
}